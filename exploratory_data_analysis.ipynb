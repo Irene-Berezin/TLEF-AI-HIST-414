{
 "cells": [
  {
   "cell_type": "code",
   "execution_count": 1,
   "id": "db880497",
   "metadata": {},
   "outputs": [
    {
     "data": {
      "text/html": [
       "<div>\n",
       "<style scoped>\n",
       "    .dataframe tbody tr th:only-of-type {\n",
       "        vertical-align: middle;\n",
       "    }\n",
       "\n",
       "    .dataframe tbody tr th {\n",
       "        vertical-align: top;\n",
       "    }\n",
       "\n",
       "    .dataframe thead th {\n",
       "        text-align: right;\n",
       "    }\n",
       "</style>\n",
       "<table border=\"1\" class=\"dataframe\">\n",
       "  <thead>\n",
       "    <tr style=\"text-align: right;\">\n",
       "      <th></th>\n",
       "      <th>citation</th>\n",
       "      <th>citation2</th>\n",
       "      <th>dataset</th>\n",
       "      <th>year</th>\n",
       "      <th>name</th>\n",
       "      <th>language</th>\n",
       "      <th>document_date</th>\n",
       "      <th>source_url</th>\n",
       "      <th>scraped_timestamp</th>\n",
       "      <th>unofficial_text</th>\n",
       "      <th>other</th>\n",
       "    </tr>\n",
       "  </thead>\n",
       "  <tbody>\n",
       "    <tr>\n",
       "      <th>0</th>\n",
       "      <td>(1877) 1 SCR 110</td>\n",
       "      <td></td>\n",
       "      <td>SCC</td>\n",
       "      <td>1877</td>\n",
       "      <td>Boak et al. v. The Merchant's Marine Insurance...</td>\n",
       "      <td>en</td>\n",
       "      <td>1877-01-23</td>\n",
       "      <td>https://decisions.scc-csc.ca/scc-csc/scc-csc/e...</td>\n",
       "      <td>2022-08-31</td>\n",
       "      <td>Boak et al. v. The Merchant's Marine Insurance...</td>\n",
       "      <td></td>\n",
       "    </tr>\n",
       "    <tr>\n",
       "      <th>1</th>\n",
       "      <td>(1877) 1 SCR 114</td>\n",
       "      <td></td>\n",
       "      <td>SCC</td>\n",
       "      <td>1877</td>\n",
       "      <td>Smyth v. McDougall</td>\n",
       "      <td>en</td>\n",
       "      <td>1877-02-01</td>\n",
       "      <td>https://decisions.scc-csc.ca/scc-csc/scc-csc/e...</td>\n",
       "      <td>2022-08-31</td>\n",
       "      <td>Smyth v. McDougall\\nCollection\\nSupreme Court ...</td>\n",
       "      <td></td>\n",
       "    </tr>\n",
       "    <tr>\n",
       "      <th>2</th>\n",
       "      <td>(1877) 1 SCR 117</td>\n",
       "      <td></td>\n",
       "      <td>SCC</td>\n",
       "      <td>1877</td>\n",
       "      <td>The Queen v. Laliberté</td>\n",
       "      <td>en</td>\n",
       "      <td>1877-02-03</td>\n",
       "      <td>https://decisions.scc-csc.ca/scc-csc/scc-csc/e...</td>\n",
       "      <td>2022-08-31</td>\n",
       "      <td>The Queen v. Laliberté\\nCollection\\nSupreme Co...</td>\n",
       "      <td></td>\n",
       "    </tr>\n",
       "    <tr>\n",
       "      <th>3</th>\n",
       "      <td>(1877) 1 SCR 145</td>\n",
       "      <td></td>\n",
       "      <td>SCC</td>\n",
       "      <td>1877</td>\n",
       "      <td>Brassard et al. v. Langevin</td>\n",
       "      <td>en</td>\n",
       "      <td>1877-02-28</td>\n",
       "      <td>https://decisions.scc-csc.ca/scc-csc/scc-csc/e...</td>\n",
       "      <td>2022-08-31</td>\n",
       "      <td>Brassard et al. v. Langevin\\nCollection\\nSupre...</td>\n",
       "      <td></td>\n",
       "    </tr>\n",
       "    <tr>\n",
       "      <th>4</th>\n",
       "      <td>(1877) 1 SCR 235</td>\n",
       "      <td></td>\n",
       "      <td>SCC</td>\n",
       "      <td>1877</td>\n",
       "      <td>Johnstone v. The Minister &amp; Trustees of St. An...</td>\n",
       "      <td>en</td>\n",
       "      <td>1877-06-28</td>\n",
       "      <td>https://decisions.scc-csc.ca/scc-csc/scc-csc/e...</td>\n",
       "      <td>2022-08-31</td>\n",
       "      <td>Johnstone v. The Minister &amp; Trustees of St. An...</td>\n",
       "      <td></td>\n",
       "    </tr>\n",
       "  </tbody>\n",
       "</table>\n",
       "</div>"
      ],
      "text/plain": [
       "           citation citation2 dataset  year  \\\n",
       "0  (1877) 1 SCR 110               SCC  1877   \n",
       "1  (1877) 1 SCR 114               SCC  1877   \n",
       "2  (1877) 1 SCR 117               SCC  1877   \n",
       "3  (1877) 1 SCR 145               SCC  1877   \n",
       "4  (1877) 1 SCR 235               SCC  1877   \n",
       "\n",
       "                                                name language document_date  \\\n",
       "0  Boak et al. v. The Merchant's Marine Insurance...       en    1877-01-23   \n",
       "1                                 Smyth v. McDougall       en    1877-02-01   \n",
       "2                             The Queen v. Laliberté       en    1877-02-03   \n",
       "3                        Brassard et al. v. Langevin       en    1877-02-28   \n",
       "4  Johnstone v. The Minister & Trustees of St. An...       en    1877-06-28   \n",
       "\n",
       "                                          source_url scraped_timestamp  \\\n",
       "0  https://decisions.scc-csc.ca/scc-csc/scc-csc/e...        2022-08-31   \n",
       "1  https://decisions.scc-csc.ca/scc-csc/scc-csc/e...        2022-08-31   \n",
       "2  https://decisions.scc-csc.ca/scc-csc/scc-csc/e...        2022-08-31   \n",
       "3  https://decisions.scc-csc.ca/scc-csc/scc-csc/e...        2022-08-31   \n",
       "4  https://decisions.scc-csc.ca/scc-csc/scc-csc/e...        2022-08-31   \n",
       "\n",
       "                                     unofficial_text other  \n",
       "0  Boak et al. v. The Merchant's Marine Insurance...        \n",
       "1  Smyth v. McDougall\\nCollection\\nSupreme Court ...        \n",
       "2  The Queen v. Laliberté\\nCollection\\nSupreme Co...        \n",
       "3  Brassard et al. v. Langevin\\nCollection\\nSupre...        \n",
       "4  Johnstone v. The Minister & Trustees of St. An...        "
      ]
     },
     "execution_count": 1,
     "metadata": {},
     "output_type": "execute_result"
    }
   ],
   "source": [
    "import pandas as pd\n",
    "import json\n",
    "import pathlib\n",
    "\n",
    "# Set variables\n",
    "start_year = 1877  # First year of data sought (1877 +)\n",
    "end_year = 2024  # Last year of data sought (2024 -)\n",
    "\n",
    "\n",
    "# Set path to data\n",
    "data_path = pathlib.Path('scc_bulk_data/DATA/YEARLY/')\n",
    "\n",
    "# load data (all years, json files)\n",
    "results = []\n",
    "for year in range(start_year, end_year+1):\n",
    "    with open(data_path / f'{year}.json') as f:\n",
    "        results.extend(json.load(f))\n",
    "\n",
    "# convert to dataframe\n",
    "df = pd.DataFrame(results)\n",
    "df.head()"
   ]
  },
  {
   "cell_type": "code",
   "execution_count": 2,
   "id": "873c2c4d",
   "metadata": {},
   "outputs": [],
   "source": [
    "df['length'] = df['unofficial_text'].apply(\n",
    "    lambda row: min(len(row.split(\" \")), len(row)) if isinstance(row, str) else None\n",
    ")"
   ]
  },
  {
   "cell_type": "code",
   "execution_count": 3,
   "id": "8d190c62",
   "metadata": {},
   "outputs": [
    {
     "data": {
      "text/plain": [
       "np.float64(7364.978799261476)"
      ]
     },
     "execution_count": 3,
     "metadata": {},
     "output_type": "execute_result"
    }
   ],
   "source": [
    "df['length'].mean()"
   ]
  },
  {
   "cell_type": "code",
   "execution_count": 3,
   "id": "e886bb82",
   "metadata": {},
   "outputs": [],
   "source": [
    "df_english = df[df['language'] == 'en']"
   ]
  },
  {
   "cell_type": "code",
   "execution_count": null,
   "id": "98adc8cc",
   "metadata": {},
   "outputs": [],
   "source": [
    "import os\n",
    "\n",
    "def generate_full_text_doc(df: pd.DataFrame, output_path: str):\n",
    "    directory = os.path.dirname(output_path)\n",
    "    if directory:\n",
    "        os.makedirs(directory, exist_ok=True)\n",
    "    with open(output_path, \"w\", encoding=\"utf-8\") as f:\n",
    "        for text in df['clean_text'].astype(str):\n",
    "            f.write(text)\n",
    "            f.write(\"\\n\")"
   ]
  },
  {
   "cell_type": "code",
   "execution_count": 6,
   "id": "f28240c9",
   "metadata": {},
   "outputs": [
    {
     "name": "stderr",
     "output_type": "stream",
     "text": [
      "[nltk_data] Downloading package stopwords to\n",
      "[nltk_data]     C:\\Users\\Irene\\AppData\\Roaming\\nltk_data...\n",
      "[nltk_data]   Package stopwords is already up-to-date!\n",
      "[nltk_data] Downloading package wordnet to\n",
      "[nltk_data]     C:\\Users\\Irene\\AppData\\Roaming\\nltk_data...\n",
      "[nltk_data]   Package wordnet is already up-to-date!\n",
      "[nltk_data] Downloading package omw-1.4 to\n",
      "[nltk_data]     C:\\Users\\Irene\\AppData\\Roaming\\nltk_data...\n",
      "[nltk_data]   Package omw-1.4 is already up-to-date!\n"
     ]
    }
   ],
   "source": [
    "import re\n",
    "import string\n",
    "from nltk.corpus import stopwords\n",
    "from nltk.stem import WordNetLemmatizer\n",
    "\n",
    "import nltk\n",
    "nltk.download('stopwords')\n",
    "nltk.download('wordnet')\n",
    "nltk.download('omw-1.4')\n",
    "\n",
    "LEMMA = WordNetLemmatizer()\n",
    "\n",
    "def cleanup_text(s: str, lemmatize = True):\n",
    "    if not isinstance(s, str):\n",
    "        return \"\"\n",
    "    else:\n",
    "        s = s.lower()\n",
    "        s = s.replace('\\r\\n', ' ').replace('\\n', ' ') # remove linebreaks\n",
    "        s = re.sub(r'\\s+', ' ', s).strip() # remove white space\n",
    "        s = s.translate(str.maketrans('', '', string.punctuation)) #remove punctuation\n",
    "        \n",
    "        tokens = []\n",
    "        for w in s.split():\n",
    "            if len(w) <= 1 or w in set(stopwords.words('english')):\n",
    "                continue\n",
    "            tok = LEMMA.lemmatize(w) if lemmatize else w # lemmatize each word, if lemmatization is enabled\n",
    "            if not re.fullmatch(r'[a-z]+', tok):\n",
    "                continue\n",
    "            tokens.append(tok)\n",
    "    return \" \".join(tokens)\n",
    "    "
   ]
  },
  {
   "cell_type": "code",
   "execution_count": null,
   "id": "c6e3e8a5",
   "metadata": {},
   "outputs": [],
   "source": [
    "df_english['clean_text'] = df_english['unofficial_text'].apply(cleanup_text)"
   ]
  },
  {
   "cell_type": "code",
   "execution_count": null,
   "id": "9d4fc272",
   "metadata": {},
   "outputs": [],
   "source": [
    "generate_full_text_doc(df_english, 'outputs/full_text_english_cleaned.txt')"
   ]
  },
  {
   "cell_type": "code",
   "execution_count": null,
   "id": "2c730c62",
   "metadata": {},
   "outputs": [
    {
     "ename": "KeyboardInterrupt",
     "evalue": "",
     "output_type": "error",
     "traceback": [
      "\u001b[31m---------------------------------------------------------------------------\u001b[39m",
      "\u001b[31mKeyboardInterrupt\u001b[39m                         Traceback (most recent call last)",
      "\u001b[36mCell\u001b[39m\u001b[36m \u001b[39m\u001b[32mIn[5]\u001b[39m\u001b[32m, line 7\u001b[39m\n\u001b[32m      3\u001b[39m \u001b[38;5;28;01mfrom\u001b[39;00m\u001b[38;5;250m \u001b[39m\u001b[34;01mwordcloud\u001b[39;00m\u001b[38;5;250m \u001b[39m\u001b[38;5;28;01mimport\u001b[39;00m WordCloud, STOPWORDS\n\u001b[32m      4\u001b[39m \u001b[38;5;28;01mimport\u001b[39;00m\u001b[38;5;250m \u001b[39m\u001b[34;01mmatplotlib\u001b[39;00m\u001b[34;01m.\u001b[39;00m\u001b[34;01mpyplot\u001b[39;00m\u001b[38;5;250m \u001b[39m\u001b[38;5;28;01mas\u001b[39;00m\u001b[38;5;250m \u001b[39m\u001b[34;01mplt\u001b[39;00m\n\u001b[32m----> \u001b[39m\u001b[32m7\u001b[39m text = \u001b[38;5;28mopen\u001b[39m(\u001b[33m'\u001b[39m\u001b[33moutputs/full_text_english.txt\u001b[39m\u001b[33m'\u001b[39m, encoding=\u001b[33m'\u001b[39m\u001b[33mutf-8\u001b[39m\u001b[33m'\u001b[39m).read().lower()\n\u001b[32m      9\u001b[39m words = re.findall(\u001b[33mr\u001b[39m\u001b[33m'\u001b[39m\u001b[33m\\\u001b[39m\u001b[33mw+\u001b[39m\u001b[33m'\u001b[39m, text)\n\u001b[32m     10\u001b[39m freqs = Counter(words)\n",
      "\u001b[31mKeyboardInterrupt\u001b[39m: "
     ]
    }
   ],
   "source": [
    "from wordcloud import WordCloud\n",
    "import matplotlib.pyplot as plt\n",
    "\n",
    "\n",
    "text = open('outputs/full_text_english.txt', encoding='utf-8').read()\n",
    "\n",
    "wc = WordCloud(\n",
    "    width=800,\n",
    "    height=400,\n",
    "    background_color='white',\n",
    "    max_words=200\n",
    ").generate(all_text)\n",
    "\n",
    "plt.figure(figsize=(12, 6))\n",
    "plt.imshow(wc, interpolation='bilinear')\n",
    "plt.axis('off')\n",
    "plt.tight_layout()\n",
    "plt.show()"
   ]
  }
 ],
 "metadata": {
  "kernelspec": {
   "display_name": "tlef-ai",
   "language": "python",
   "name": "python3"
  },
  "language_info": {
   "codemirror_mode": {
    "name": "ipython",
    "version": 3
   },
   "file_extension": ".py",
   "mimetype": "text/x-python",
   "name": "python",
   "nbconvert_exporter": "python",
   "pygments_lexer": "ipython3",
   "version": "3.13.2"
  }
 },
 "nbformat": 4,
 "nbformat_minor": 5
}
